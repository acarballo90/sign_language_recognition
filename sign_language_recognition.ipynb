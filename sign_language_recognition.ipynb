{
  "nbformat": 4,
  "nbformat_minor": 0,
  "metadata": {
    "colab": {
      "name": "sign_language_recognition.ipynb",
      "provenance": [],
      "collapsed_sections": [],
      "authorship_tag": "ABX9TyNcus8mW6gsCWDinFXBNpEO"
    },
    "kernelspec": {
      "display_name": "Python 3",
      "name": "python3"
    },
    "accelerator": "GPU"
  },
  "cells": [
    {
      "cell_type": "markdown",
      "metadata": {
        "id": "GRrGWSO5uIGG"
      },
      "source": [
        "*Author: acarballo <br> Latest update: March 2021 <br> Version for Google Colab*"
      ]
    },
    {
      "cell_type": "markdown",
      "metadata": {
        "id": "LdV4V8QiVX3u"
      },
      "source": [
        "**Setup**"
      ]
    },
    {
      "cell_type": "markdown",
      "metadata": {
        "id": "u3MVqw5dVdE1"
      },
      "source": [
        "Mount Google Drive"
      ]
    },
    {
      "cell_type": "code",
      "metadata": {
        "id": "XhY0-TnPVPop"
      },
      "source": [
        "from google.colab import drive\r\n",
        "drive.mount('/content/gdrive')"
      ],
      "execution_count": null,
      "outputs": []
    },
    {
      "cell_type": "markdown",
      "metadata": {
        "id": "RZaNXQrSWJWX"
      },
      "source": [
        "Clone TensorFlow Garden"
      ]
    },
    {
      "cell_type": "code",
      "metadata": {
        "id": "gr4acHJCWGUv"
      },
      "source": [
        "%cd '/content/gdrive/My Drive/TensorFlow'\r\n",
        "!git clone https://github.com/tensorflow/models.git"
      ],
      "execution_count": null,
      "outputs": []
    },
    {
      "cell_type": "markdown",
      "metadata": {
        "id": "TV03sd56Wq3r"
      },
      "source": [
        "Installing the Object Detection API"
      ]
    },
    {
      "cell_type": "code",
      "metadata": {
        "id": "-2Icc1iIoHYn"
      },
      "source": [
        "!pip install cython\r\n",
        "!pip install git+https://github.com/philferriere/cocoapi.git#subdirectory=PythonAPI"
      ],
      "execution_count": null,
      "outputs": []
    },
    {
      "cell_type": "code",
      "metadata": {
        "id": "d587KRNDWrj0"
      },
      "source": [
        "%%bash\r\n",
        "sudo apt install -y protobuf-compiler\r\n",
        "cd models/research/\r\n",
        "protoc object_detection/protos/*.proto --python_out=.\r\n",
        "cp object_detection/packages/tf2/setup.py .\r\n",
        "python -m pip install ."
      ],
      "execution_count": null,
      "outputs": []
    },
    {
      "cell_type": "markdown",
      "metadata": {
        "id": "sZ7hin-aTMVW"
      },
      "source": [
        "Import dependencies"
      ]
    },
    {
      "cell_type": "code",
      "metadata": {
        "id": "jaFObCqMX4mT"
      },
      "source": [
        "!pip install tf_slim\r\n",
        "%cd '/content/gdrive/My Drive/TensorFlow/models/research/'\r\n",
        "from object_detection.utils import label_map_util\r\n",
        "from object_detection.utils import visualization_utils as viz_utils\r\n",
        "from object_detection.utils import ops as utils_ops\r\n",
        "\r\n",
        "%matplotlib inline"
      ],
      "execution_count": null,
      "outputs": []
    },
    {
      "cell_type": "markdown",
      "metadata": {
        "id": "7Yza88PrXSuR"
      },
      "source": [
        "Base imports"
      ]
    },
    {
      "cell_type": "code",
      "metadata": {
        "id": "aMtNp9vHXW4q"
      },
      "source": [
        "import os\r\n",
        "import pathlib\r\n",
        "import tarfile\r\n",
        "import urllib.request\r\n",
        "import numpy as np\r\n",
        "\r\n",
        "import tensorflow as tf\r\n",
        "\r\n",
        "print('TF Version:', tf.__version__)"
      ],
      "execution_count": null,
      "outputs": []
    },
    {
      "cell_type": "markdown",
      "metadata": {
        "id": "x8ghlRGdrGnm"
      },
      "source": [
        "**Create data directory and set paths**"
      ]
    },
    {
      "cell_type": "code",
      "metadata": {
        "id": "4eoLd-5A_8gJ"
      },
      "source": [
        "%cd '/content/'"
      ],
      "execution_count": null,
      "outputs": []
    },
    {
      "cell_type": "code",
      "metadata": {
        "id": "mj2y4FnlAQ9w"
      },
      "source": [
        "DIR = os.path.join(os.getcwd(), 'sign_language')\r\n",
        "ANNOTATION_PATH = os.path.join(DIR, 'annotations')\r\n",
        "TRAIN_PATH = os.path.join(DIR, 'train')\r\n",
        "TEST_PATH = os.path.join(DIR, 'test')\r\n",
        "MODELS_PATH = os.path.join(DIR, 'models')"
      ],
      "execution_count": null,
      "outputs": []
    },
    {
      "cell_type": "code",
      "metadata": {
        "id": "gu5sJHiWAebf"
      },
      "source": [
        "for path in [DIR, ANNOTATION_PATH, TRAIN_PATH, TEST_PATH, MODELS_PATH]:\r\n",
        "  if not os.path.exists(path):\r\n",
        "    os.makedirs(path)"
      ],
      "execution_count": null,
      "outputs": []
    },
    {
      "cell_type": "markdown",
      "metadata": {
        "id": "ik6PwpiHCHYX"
      },
      "source": [
        "**Download the model from TensorFlow Zoo**"
      ]
    },
    {
      "cell_type": "markdown",
      "metadata": {
        "id": "acFuL0j4CZXw"
      },
      "source": [
        "Model info"
      ]
    },
    {
      "cell_type": "code",
      "metadata": {
        "id": "O_2bnl2kCXbh"
      },
      "source": [
        "MODEL_DATE = '20200711'\r\n",
        "MODEL_NAME = 'ssd_mobilenet_v2_fpnlite_320x320_coco17_tpu-8'\r\n",
        "MODEL_TAR_FILENAME = MODEL_NAME + '.tar.gz'\r\n",
        "MODELS_DOWNLOAD_BASE = 'http://download.tensorflow.org/models/object_detection/tf2/'\r\n",
        "MODEL_DOWNLOAD_LINK = MODELS_DOWNLOAD_BASE + MODEL_DATE + '/' + MODEL_TAR_FILENAME\r\n",
        "PATH_TO_MODEL_TAR = os.path.join(MODELS_PATH, MODEL_TAR_FILENAME)\r\n",
        "PATH_TO_CKPT = os.path.join(MODELS_PATH, os.path.join(MODEL_NAME, 'checkpoints/'))\r\n",
        "PATH_TO_CFG = os.path.join(MODELS_PATH, os.path.join(MODEL_NAME, 'pipeline.config'))"
      ],
      "execution_count": null,
      "outputs": []
    },
    {
      "cell_type": "code",
      "metadata": {
        "id": "wGZCmOVDCsNQ"
      },
      "source": [
        "if not os.path.exists(PATH_TO_CKPT):\r\n",
        "    urllib.request.urlretrieve(MODEL_DOWNLOAD_LINK, PATH_TO_MODEL_TAR)\r\n",
        "    tar_file = tarfile.open(PATH_TO_MODEL_TAR)\r\n",
        "    tar_file.extractall(MODELS_PATH)\r\n",
        "    tar_file.close()\r\n",
        "    os.remove(PATH_TO_MODEL_TAR)\r\n",
        "    print('Model downloaded')"
      ],
      "execution_count": null,
      "outputs": []
    },
    {
      "cell_type": "markdown",
      "metadata": {
        "id": "CsAcCe-vUFt3"
      },
      "source": [
        "**Create label map**"
      ]
    },
    {
      "cell_type": "code",
      "metadata": {
        "id": "hLtnHdUQUMxd"
      },
      "source": [
        "labels = [ {'name' : 'Hello', 'id' : 1}, {'name' : 'How are', 'id' : 2},\r\n",
        "           {'name' : 'Thank you', 'id' : 3}, {'name' : 'You', 'id' : 4},\r\n",
        "           {'name' : 'Fine', 'id' : 5} ]\r\n",
        "\r\n",
        "with open(ANNOTATION_PATH + '/signs_label_map.pbtxt', 'w') as f:\r\n",
        "    for label in labels:\r\n",
        "        f.write('item { \\n')\r\n",
        "        f.write('\\tname:\\'{}\\'\\n'.format(label['name']))\r\n",
        "        f.write('\\tid:{}\\n'.format(label['id']))\r\n",
        "        f.write('}\\n')"
      ],
      "execution_count": null,
      "outputs": []
    },
    {
      "cell_type": "markdown",
      "metadata": {
        "id": "S8Su9LjztHzR"
      },
      "source": [
        "**Create TF Records**"
      ]
    },
    {
      "cell_type": "markdown",
      "metadata": {
        "id": "9Ov2nLsuQAxC"
      },
      "source": [
        "*Upload generated images and PASCAL VOC labels (on local computer) <br> LabelImg: https://github.com/tzutalin/labelImg*"
      ]
    },
    {
      "cell_type": "code",
      "metadata": {
        "id": "KyLUZjiptKOE"
      },
      "source": [
        "IMAGE_PATH = '/content/sign_language/'\r\n",
        "SCRIPTS_PATH = '/content/gdrive/MyDrive/TensorFlow/models/research/'\r\n",
        "\r\n",
        "!python {SCRIPTS_PATH + 'generate_tfrecord.py'} -x {IMAGE_PATH + 'train'} -l {ANNOTATION_PATH + '/signs_label_map.pbtxt'} -o {ANNOTATION_PATH + '/train.record'}\r\n",
        "!python {SCRIPTS_PATH + 'generate_tfrecord.py'} -x {IMAGE_PATH + 'test'} -l {ANNOTATION_PATH + '/signs_label_map.pbtxt'} -o {ANNOTATION_PATH + '/test.record'}"
      ],
      "execution_count": null,
      "outputs": []
    },
    {
      "cell_type": "markdown",
      "metadata": {
        "id": "AGqx7MqbR691"
      },
      "source": [
        "**Update pipeline for transfer learning**"
      ]
    },
    {
      "cell_type": "markdown",
      "metadata": {
        "id": "7SAJLlC9SCL-"
      },
      "source": [
        "Import dependencies"
      ]
    },
    {
      "cell_type": "code",
      "metadata": {
        "id": "ZDIRIQsRR5Rq"
      },
      "source": [
        "from object_detection.utils import label_map_util\r\n",
        "from object_detection.utils import config_util\r\n",
        "from object_detection.utils import visualization_utils as viz_utils\r\n",
        "from object_detection.protos import pipeline_pb2\r\n",
        "from object_detection.builders import model_builder\r\n",
        "from google.protobuf import text_format"
      ],
      "execution_count": null,
      "outputs": []
    },
    {
      "cell_type": "markdown",
      "metadata": {
        "id": "ZQIulnUbgVPk"
      },
      "source": [
        "Setup pipilene"
      ]
    },
    {
      "cell_type": "code",
      "metadata": {
        "id": "Il1iKW1fSHY5"
      },
      "source": [
        "configs = config_util.get_configs_from_pipeline_file(PATH_TO_CFG)"
      ],
      "execution_count": null,
      "outputs": []
    },
    {
      "cell_type": "code",
      "metadata": {
        "id": "knAUYxD9SLUV"
      },
      "source": [
        "pipeline_config = pipeline_pb2.TrainEvalPipelineConfig()\r\n",
        "with tf.io.gfile.GFile(PATH_TO_CFG, \"r\") as f:                                                                                                                                                                                                                     \r\n",
        "    proto_str = f.read()                                                                                                                                                                                                                                          \r\n",
        "    text_format.Merge(proto_str, pipeline_config)"
      ],
      "execution_count": null,
      "outputs": []
    },
    {
      "cell_type": "code",
      "metadata": {
        "id": "hIUYdiMFSPJ9"
      },
      "source": [
        "pipeline_config.model.ssd.num_classes = 5\r\n",
        "pipeline_config.train_config.batch_size = 8\r\n",
        "pipeline_config.train_config.fine_tune_checkpoint = os.path.join(PATH_TO_CKPT, 'ckpt-0')\r\n",
        "pipeline_config.train_config.fine_tune_checkpoint_type = \"detection\"\r\n",
        "pipeline_config.train_input_reader.label_map_path= ANNOTATION_PATH + '/signs_label_map.pbtxt'\r\n",
        "pipeline_config.train_input_reader.tf_record_input_reader.input_path[:] = [ANNOTATION_PATH + '/train.record']\r\n",
        "pipeline_config.eval_input_reader[0].label_map_path = ANNOTATION_PATH + '/signs_label_map.pbtxt'\r\n",
        "pipeline_config.eval_input_reader[0].tf_record_input_reader.input_path[:] = [ANNOTATION_PATH + '/test.record']"
      ],
      "execution_count": null,
      "outputs": []
    },
    {
      "cell_type": "code",
      "metadata": {
        "id": "mGTt6VU0SwZW"
      },
      "source": [
        "config_text = text_format.MessageToString(pipeline_config)                                                                                                                                                                                                        \r\n",
        "with tf.io.gfile.GFile(PATH_TO_CFG, \"wb\") as f:                                                                                                                                                                                                                     \r\n",
        "    f.write(config_text)"
      ],
      "execution_count": null,
      "outputs": []
    },
    {
      "cell_type": "markdown",
      "metadata": {
        "id": "Mkpb0OJ-2ZKX"
      },
      "source": [
        "**Train Model**"
      ]
    },
    {
      "cell_type": "code",
      "metadata": {
        "id": "C25p-L2YbSOo"
      },
      "source": [
        "gpus = tf.config.experimental.list_physical_devices('GPU')\r\n",
        "for gpu in gpus:\r\n",
        "    tf.config.experimental.set_memory_growth(gpu, True)"
      ],
      "execution_count": null,
      "outputs": []
    },
    {
      "cell_type": "code",
      "metadata": {
        "id": "G-W4K9weq0Bk"
      },
      "source": [
        "!python /content/gdrive/MyDrive/TensorFlow/models/research/object_detection/model_main_tf2.py --model_dir=/content/sign_language/models/ssd_mobilenet_v2_fpnlite_320x320_coco17_tpu-8 --pipeline_config_path=/content/sign_language/models/ssd_mobilenet_v2_fpnlite_320x320_coco17_tpu-8/pipeline.config --num_train_steps=5000"
      ],
      "execution_count": null,
      "outputs": []
    },
    {
      "cell_type": "markdown",
      "metadata": {
        "id": "YyuBuECGiR1a"
      },
      "source": [
        "**Download project**"
      ]
    },
    {
      "cell_type": "markdown",
      "metadata": {
        "id": "wcSBkNwniXVR"
      },
      "source": [
        "Create zip file"
      ]
    },
    {
      "cell_type": "code",
      "metadata": {
        "id": "h92VSQrRiU1F"
      },
      "source": [
        "!zip -r /content/sign_language.zip /content/sign_language"
      ],
      "execution_count": null,
      "outputs": []
    },
    {
      "cell_type": "markdown",
      "metadata": {
        "id": "uEBoatDXil4m"
      },
      "source": [
        "Download zip file"
      ]
    },
    {
      "cell_type": "code",
      "metadata": {
        "id": "mCFVlUuaipDm"
      },
      "source": [
        "from google.colab import files\r\n",
        "\r\n",
        "files.download(\"/content/sign_language.zip\")"
      ],
      "execution_count": null,
      "outputs": []
    },
    {
      "cell_type": "markdown",
      "metadata": {
        "id": "PjFosyhus5Ae"
      },
      "source": [
        "***Hereinafter, on local computer***"
      ]
    },
    {
      "cell_type": "markdown",
      "metadata": {
        "id": "rqb5s3gutDQJ"
      },
      "source": [
        "Load pipeline config and build a detection model"
      ]
    },
    {
      "cell_type": "code",
      "metadata": {
        "id": "ALO9AqWKtCpx"
      },
      "source": [
        "PATH_TO_CFG = 'YOUR PATH FOR PIPELINE CONFIG'\r\n",
        "PATH_TO_CKPT = 'YOUR PATH FOR THE LATEST CHECKPOINT'    "
      ],
      "execution_count": null,
      "outputs": []
    },
    {
      "cell_type": "code",
      "metadata": {
        "id": "qD3_tSq1tZP0"
      },
      "source": [
        "configs = config_util.get_configs_from_pipeline_file(PATH_TO_CFG)\r\n",
        "detection_model = model_builder.build(model_config=configs['model'], is_training=False)"
      ],
      "execution_count": null,
      "outputs": []
    },
    {
      "cell_type": "markdown",
      "metadata": {
        "id": "sTKRaey0tbUh"
      },
      "source": [
        "Restore checkpoint"
      ]
    },
    {
      "cell_type": "code",
      "metadata": {
        "id": "H7QmMSdhtZzQ"
      },
      "source": [
        "ckpt = tf.compat.v2.train.Checkpoint(model=detection_model)\r\n",
        "ckpt.restore(PATH_TO_CKPT).expect_partial()"
      ],
      "execution_count": null,
      "outputs": []
    },
    {
      "cell_type": "markdown",
      "metadata": {
        "id": "F9bBQOIOtfbc"
      },
      "source": [
        "Real-time detection (*won't work on google colab*)"
      ]
    },
    {
      "cell_type": "code",
      "metadata": {
        "id": "Jv6YArY5tewn"
      },
      "source": [
        "@tf.function\r\n",
        "def detect_fn(image):\r\n",
        "    image, shapes = detection_model.preprocess(image)\r\n",
        "    prediction_dict = detection_model.predict(image, shapes)\r\n",
        "    detections = detection_model.postprocess(prediction_dict, shapes)\r\n",
        "    return detections"
      ],
      "execution_count": null,
      "outputs": []
    },
    {
      "cell_type": "code",
      "metadata": {
        "id": "a-AHcbBkttCL"
      },
      "source": [
        "import cv2\r\n",
        "import numpy as np\r\n",
        "\r\n",
        "\r\n",
        "ANNOTATION_PATH = 'YOUR PATH FOR LABEL MAP pbtxt'\r\n",
        "category_index = label_map_util.create_category_index_from_labelmap(ANNOTATION_PATH, use_display_name=True)\r\n",
        "\r\n",
        "# Setup capture\r\n",
        "cap = cv2.VideoCapture(0)\r\n",
        "width = int(cap.get(cv2.CAP_PROP_FRAME_WIDTH))\r\n",
        "height = int(cap.get(cv2.CAP_PROP_FRAME_HEIGHT))\r\n",
        "\r\n",
        "while True:\r\n",
        "    # Read frame from camera\r\n",
        "    ret, frame = cap.read()\r\n",
        "\r\n",
        "    image_np = np.array(frame)\r\n",
        "    \r\n",
        "    input_tensor = tf.convert_to_tensor(np.expand_dims(image_np, 0), dtype=tf.float32)\r\n",
        "    detections = detect_fn(input_tensor)\r\n",
        "    \r\n",
        "    num_detections = int(detections.pop('num_detections'))\r\n",
        "    detections = {key: value[0, :num_detections].numpy()\r\n",
        "                  for key, value in detections.items()}\r\n",
        "    detections['num_detections'] = num_detections\r\n",
        "\r\n",
        "    # detection_classes should be ints.\r\n",
        "    detections['detection_classes'] = detections['detection_classes'].astype(np.int64)\r\n",
        "\r\n",
        "    label_id_offset = 1\r\n",
        "    image_np_with_detections = image_np.copy()\r\n",
        "\r\n",
        "    viz_utils.visualize_boxes_and_labels_on_image_array(\r\n",
        "            image_np_with_detections,\r\n",
        "            detections['detection_boxes'],\r\n",
        "            detections['detection_classes']+label_id_offset,\r\n",
        "            detections['detection_scores'],\r\n",
        "            category_index,\r\n",
        "            use_normalized_coordinates=True,\r\n",
        "            max_boxes_to_draw=1,\r\n",
        "            min_score_thresh=.6,\r\n",
        "            agnostic_mode=False)\r\n",
        "\r\n",
        "    # Display output\r\n",
        "    cv2.imshow('object detection', cv2.resize(image_np_with_detections, (800, 600)))\r\n",
        "\r\n",
        "    if cv2.waitKey(25) & 0xFF == ord('q'):\r\n",
        "        break\r\n",
        "\r\n",
        "cap.release()\r\n",
        "cv2.destroyAllWindows()"
      ],
      "execution_count": null,
      "outputs": []
    }
  ]
}